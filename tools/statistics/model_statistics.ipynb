{
 "cells": [
  {
   "cell_type": "code",
   "execution_count": 10,
   "metadata": {},
   "outputs": [
    {
     "name": "stdout",
     "output_type": "stream",
     "text": [
      "Classification - Accuracy: 0.51, Precision: 0.4791666666666667, Recall: 0.48936170212765956, F1 Score: 0.4842105263157895\n",
      "Regression - MSE: 0.009775328255276003, MAE: 0.07830811228603707\n",
      "Paired t-test - T-statistic: 0.17946180357514582, P-value: 0.8579419003878191\n"
     ]
    }
   ],
   "source": [
    "from sklearn.metrics import accuracy_score, precision_recall_fscore_support, mean_squared_error, mean_absolute_error, top_k_accuracy_score\n",
    "from scipy.stats import ttest_rel\n",
    "import numpy as np\n",
    "\n",
    "def evaluate_classification_model(y_true, y_pred):\n",
    "    \"\"\"\n",
    "    Evaluate a classification model using Accuracy, Precision, Recall, and F1-score.\n",
    "    \"\"\"\n",
    "    accuracy = accuracy_score(y_true, y_pred)\n",
    "    precision, recall, f1, _ = precision_recall_fscore_support(y_true, y_pred, average='binary')\n",
    "    return accuracy, precision, recall, f1\n",
    "\n",
    "def evaluate_regression_model(y_true, y_pred):\n",
    "    \"\"\"\n",
    "    Evaluate a regression model using Mean Squared Error (MSE) and Mean Absolute Error (MAE).\n",
    "    \"\"\"\n",
    "    mse = mean_squared_error(y_true, y_pred)\n",
    "    mae = mean_absolute_error(y_true, y_pred)\n",
    "    return mse, mae\n",
    "\n",
    "def perform_paired_t_test(model1_results, model2_results):\n",
    "    \"\"\"\n",
    "    Perform a paired t-test between two models' results.\n",
    "    \"\"\"\n",
    "    t_statistic, p_value = ttest_rel(model1_results, model2_results)\n",
    "    return t_statistic, p_value\n",
    "\n",
    "def evaluate_top_k_accuracy(y_true, y_scores, k=1):\n",
    "    \"\"\"\n",
    "    Calculate Top-k accuracy for a given set of true labels and predicted scores.\n",
    "    \"\"\"\n",
    "    # Ensure k does not exceed the number of classes\n",
    "    max_k = min(k, y_scores.shape[1])\n",
    "    if max_k != k:\n",
    "        print(f\"Adjusted k from {k} to {max_k} due to class count constraints.\")\n",
    "    top_k_accuracy = top_k_accuracy_score(y_true, y_scores, k=max_k)\n",
    "    return top_k_accuracy\n",
    "\n",
    "# Example usage within main block or another function for actual model predictions\n",
    "if __name__ == \"__main__\":\n",
    "    # Assuming y_true and y_pred are loaded or computed elsewhere\n",
    "    y_true_classification = np.random.randint(0, 2, 100)\n",
    "    y_pred_classification = np.random.randint(0, 2, 100)\n",
    "    \n",
    "    y_true_regression = np.random.rand(100)\n",
    "    y_pred_regression = y_true_regression + np.random.normal(0, 0.1, 100)  # adding some noise\n",
    "\n",
    "    # Evaluate classification\n",
    "    acc, prec, rec, f1 = evaluate_classification_model(y_true_classification, y_pred_classification)\n",
    "    print(f\"Classification - Accuracy: {acc}, Precision: {prec}, Recall: {rec}, F1 Score: {f1}\")\n",
    "\n",
    "    # Evaluate regression\n",
    "    mse, mae = evaluate_regression_model(y_true_regression, y_pred_regression)\n",
    "    print(f\"Regression - MSE: {mse}, MAE: {mae}\")\n",
    "\n",
    "    t_stat, p_val = perform_paired_t_test(y_pred_classification, y_pred_regression) \n",
    "    print(f\"Paired t-test - T-statistic: {t_stat}, P-value: {p_val}\")\n"
   ]
  }
 ],
 "metadata": {
  "kernelspec": {
   "display_name": "artificial_intelligence",
   "language": "python",
   "name": "python3"
  },
  "language_info": {
   "codemirror_mode": {
    "name": "ipython",
    "version": 3
   },
   "file_extension": ".py",
   "mimetype": "text/x-python",
   "name": "python",
   "nbconvert_exporter": "python",
   "pygments_lexer": "ipython3",
   "version": "3.12.0"
  }
 },
 "nbformat": 4,
 "nbformat_minor": 2
}
