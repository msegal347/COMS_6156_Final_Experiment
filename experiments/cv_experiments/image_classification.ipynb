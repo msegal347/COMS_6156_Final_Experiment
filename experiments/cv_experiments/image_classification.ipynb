{
 "cells": [
  {
   "cell_type": "code",
   "execution_count": null,
   "metadata": {},
   "outputs": [],
   "source": [
    "import torch, torchvision\n",
    "from torch import nn\n",
    "from torchvision import transforms, models, datasets\n",
    "import shap\n",
    "import json\n",
    "import numpy as np\n",
    "\n",
    "mean = [0.485, 0.456, 0.406]\n",
    "std = [0.229, 0.224, 0.225]\n",
    "\n",
    "def normalize(image):\n",
    "    if image.max() > 1:\n",
    "        image /= 255\n",
    "    image = (image - mean) / std\n",
    "    return torch.tensor(image.swapaxes(-1, 1).swapaxes(2, 3)).float()\n",
    "\n",
    "# load the model\n",
    "model = models.vgg16(pretrained=True).eval()\n",
    "\n",
    "X,y = shap.datasets.imagenet50()\n",
    "\n",
    "X /= 255\n",
    "\n",
    "to_explain = X[[21, 22]]\n",
    "\n",
    "# load the ImageNet class names\n",
    "url = \"https://s3.amazonaws.com/deep-learning-models/image-models/imagenet_class_index.json\"\n",
    "fname = shap.datasets.cache(url)\n",
    "with open(fname) as f:\n",
    "    class_names = json.load(f)\n",
    "\n",
    "e = shap.GradientExplainer((model, model.features[7]), normalize(X))\n",
    "shap_values,indexes = e.shap_values(normalize(to_explain), ranked_outputs=2, nsamples=200)\n",
    "\n",
    "# get the names for the classes\n",
    "index_names = np.vectorize(lambda x: class_names[str(x)][1])(indexes)\n",
    "\n",
    "# plot the explanations\n",
    "shap_values = [np.swapaxes(np.swapaxes(s, 2, 3), 1, -1) for s in shap_values]\n",
    "\n",
    "shap.image_plot(shap_values, to_explain, index_names)\n"
   ]
  }
 ],
 "metadata": {
  "language_info": {
   "name": "python"
  }
 },
 "nbformat": 4,
 "nbformat_minor": 2
}
